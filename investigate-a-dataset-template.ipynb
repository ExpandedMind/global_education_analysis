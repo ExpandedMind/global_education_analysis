{
 "cells": [
  {
   "cell_type": "markdown",
   "metadata": {},
   "source": [
    "\n",
    "\n",
    "# Project: How education impacts in people´s way of living\n",
    "\n",
    "## Table of Contents\n",
    "<ul>\n",
    "<li><a href=\"#intro\">Introduction</a></li>\n",
    "<li><a href=\"#wrangling\">Data Wrangling</a></li>\n",
    "<li><a href=\"#eda\">Exploratory Data Analysis</a></li>\n",
    "<li><a href=\"#conclusions\">Conclusions</a></li>\n",
    "</ul>"
   ]
  },
  {
   "cell_type": "markdown",
   "metadata": {},
   "source": [
    "<a id='intro'></a>\n",
    "## Introduction\n"
   ]
  },
  {
   "cell_type": "markdown",
   "metadata": {},
   "source": [
    "It is common to hear that education is the key of success. I do not think anyone could argue against. Gobernors can´t stop speaking how important is education to grow as country, society and ultimately bring wellness to citizen individuals.\n",
    "This project aims to investigate how education impacts other aspects of daily life living for people in a given country.\n",
    "\n",
    "In concrete, we are going to explore _education oportunity_ and compare it against 3 potential related factors: Income per capita, Life expectancy, Corruption perception.\n",
    "\n",
    "By _education oportunity_ we are going to consider average number of years of school attended by all people in the age between 25 and 34, including primary, secondary and tertiary education."
   ]
  },
  {
   "cell_type": "code",
   "execution_count": 1,
   "metadata": {},
   "outputs": [],
   "source": [
    "# Use this cell to set up import statements for all of the packages that you\n",
    "#   plan to use.\n",
    "\n",
    "# Remember to include a 'magic word' so that your visualizations are plotted\n",
    "#   inline with the notebook. See this page for more:\n",
    "#   http://ipython.readthedocs.io/en/stable/interactive/magics.html\n",
    "\n",
    "import pandas as pd\n",
    "import numpy as np\n",
    "import matplotlib.pyplot as plt\n",
    "\n",
    "%matplotlib inline"
   ]
  },
  {
   "cell_type": "markdown",
   "metadata": {},
   "source": [
    "<a id='wrangling'></a>\n",
    "## Data Wrangling\n",
    "\n",
    "> **Tip**: In this section of the report, you will load in the data, check for cleanliness, and then trim and clean your dataset for analysis. Make sure that you document your steps carefully and justify your cleaning decisions.\n",
    "\n",
    "### General Properties"
   ]
  },
  {
   "cell_type": "markdown",
   "metadata": {},
   "source": [
    "The first thing to do is find a factor that models education opportunity. Given available info from [GapMinder](https://www.gapminder.org/), I decided to use total years in school for a segment of people between 25 - 34 years old (segment chosen by curiosity as I am 31 year old as well as I consider 25 is a typical age for graduates to incorporate to workforce)"
   ]
  },
  {
   "cell_type": "markdown",
   "metadata": {},
   "source": [
    "#### Initial challenge\n",
    "\n",
    "GapMinder provides avg years in school information in 2 different tables, one for men and other for women. So in order to generalize, I decided to blend them together."
   ]
  },
  {
   "cell_type": "code",
   "execution_count": 2,
   "metadata": {},
   "outputs": [],
   "source": [
    "# This is how it looks for men\n",
    "men_in_school = pd.read_csv(\"men_years_in_school.csv\", index_col=\"country\")\n",
    "####men_in_school.info()"
   ]
  },
  {
   "cell_type": "code",
   "execution_count": 3,
   "metadata": {},
   "outputs": [],
   "source": [
    "# This is how it looks for women\n",
    "women_in_school = pd.read_csv(\"women_years_in_school.csv\", index_col=\"country\")\n",
    "##### women_in_school.info()"
   ]
  },
  {
   "cell_type": "code",
   "execution_count": 4,
   "metadata": {},
   "outputs": [
    {
     "data": {
      "text/plain": [
       "((187, 46), (187, 46))"
      ]
     },
     "execution_count": 4,
     "metadata": {},
     "output_type": "execute_result"
    }
   ],
   "source": [
    "# Let´s explore datasets dimensions\n",
    "men_in_school.shape, women_in_school.shape"
   ]
  },
  {
   "cell_type": "code",
   "execution_count": 5,
   "metadata": {},
   "outputs": [
    {
     "data": {
      "text/plain": [
       "True"
      ]
     },
     "execution_count": 5,
     "metadata": {},
     "output_type": "execute_result"
    }
   ],
   "source": [
    "# Test that both datasets have same index.\n",
    "men_in_school.index.to_list() == women_in_school.index.to_list()"
   ]
  },
  {
   "cell_type": "code",
   "execution_count": 6,
   "metadata": {},
   "outputs": [
    {
     "data": {
      "text/plain": [
       "True"
      ]
     },
     "execution_count": 6,
     "metadata": {},
     "output_type": "execute_result"
    }
   ],
   "source": [
    "# Test that both datasets have same columns.\n",
    "men_in_school.columns.to_list() == women_in_school.columns.to_list()"
   ]
  },
  {
   "cell_type": "markdown",
   "metadata": {},
   "source": [
    "From above exploration we can give some conclusions:\n",
    "1. **_country_** column was selected as index because it gives more sense to work with data and both datasets share same country values.\n",
    "2. Both datasets look pretty concise. Fortunately there is not missing data or strange data types.\n",
    "3. Both datasets share same shape so blending process should be straighforward."
   ]
  },
  {
   "cell_type": "code",
   "execution_count": 7,
   "metadata": {},
   "outputs": [],
   "source": [
    "# Generalize our education level factor by giving an average of both genres \n",
    "#population_in_school = (men_in_school + women_in_school) / 2\n",
    "#population_in_school.head(5)\n",
    "men_df = men_in_school.stack().to_frame().rename(columns={0 : \"men_years\"})\n",
    "women_df = women_in_school.stack().to_frame().rename(columns={0 : \"women_years\"})\n",
    "education_df = men_df.merge(women_df, how='inner', left_index=True, right_index=True)\n",
    "education_df[\"education_opportunity\"] = (education_df.men_years + education_df.women_years) / 2"
   ]
  },
  {
   "cell_type": "markdown",
   "metadata": {},
   "source": [
    "Next step is to merge individual indicators into our original data frame"
   ]
  },
  {
   "cell_type": "markdown",
   "metadata": {},
   "source": [
    "###### Life expectancy\n",
    "Average number of years a newborn child would live if current mortality patterns were to stay the same https://www.gapminder.org/data/documentation/gd004/"
   ]
  },
  {
   "cell_type": "code",
   "execution_count": 8,
   "metadata": {},
   "outputs": [],
   "source": [
    "life_exp = pd.read_csv(\"life_expectancy_years.csv\", index_col=\"country\")\n",
    "life_df = life_exp.stack().to_frame().rename(columns={0 : \"life_expectancy\"})\n",
    "# With inner merge we waranty that years beyond period 1970-2015 are not considered for analysis\n",
    "education_df = education_df.merge(life_df, how=\"inner\", left_index=True, right_index=True)"
   ]
  },
  {
   "cell_type": "markdown",
   "metadata": {},
   "source": [
    "##### Income per person (GDP/ capita, PPP Inflation adjusted)\n",
    "Gross domestic product per person adjusted for differences in purchasing power)\n",
    "http://gapm.io/dgdppc"
   ]
  },
  {
   "cell_type": "code",
   "execution_count": 9,
   "metadata": {},
   "outputs": [],
   "source": [
    "income_per_capita = pd.read_csv(\"income_per_person.csv\", index_col=\"country\")\n",
    "income_df = income_per_capita.stack().to_frame().rename(columns={0: \"income_pc\"})\n",
    "education_df = education_df.merge(income_df, how=\"inner\", left_index=True, right_index=True)"
   ]
  },
  {
   "cell_type": "markdown",
   "metadata": {},
   "source": [
    "##### Corruption Perception Index"
   ]
  },
  {
   "cell_type": "markdown",
   "metadata": {},
   "source": [
    "Transparency International's score of perceptions of corruption. Higher values indicate less corruption. Reference: https://www.transparency.org/research/cpi"
   ]
  },
  {
   "cell_type": "code",
   "execution_count": 10,
   "metadata": {},
   "outputs": [],
   "source": [
    "corruption = pd.read_csv(\"corruption_perception_index_cpi.csv\", index_col=\"country\")\n",
    "corruption_df = corruption.stack().to_frame().rename(columns={0: \"corruption\"})\n",
    "education_df = education_df.merge(corruption_df, how=\"left\", left_index=True, right_index=True)"
   ]
  },
  {
   "cell_type": "markdown",
   "metadata": {},
   "source": [
    "After reshape process, this is the final data frame we are going to use to answer questions."
   ]
  },
  {
   "cell_type": "code",
   "execution_count": 11,
   "metadata": {},
   "outputs": [
    {
     "data": {
      "text/html": [
       "<div>\n",
       "<style scoped>\n",
       "    .dataframe tbody tr th:only-of-type {\n",
       "        vertical-align: middle;\n",
       "    }\n",
       "\n",
       "    .dataframe tbody tr th {\n",
       "        vertical-align: top;\n",
       "    }\n",
       "\n",
       "    .dataframe thead th {\n",
       "        text-align: right;\n",
       "    }\n",
       "</style>\n",
       "<table border=\"1\" class=\"dataframe\">\n",
       "  <thead>\n",
       "    <tr style=\"text-align: right;\">\n",
       "      <th></th>\n",
       "      <th></th>\n",
       "      <th>men_years</th>\n",
       "      <th>women_years</th>\n",
       "      <th>education_opportunity</th>\n",
       "      <th>life_expectancy</th>\n",
       "      <th>income_pc</th>\n",
       "      <th>corruption</th>\n",
       "    </tr>\n",
       "    <tr>\n",
       "      <th>country</th>\n",
       "      <th></th>\n",
       "      <th></th>\n",
       "      <th></th>\n",
       "      <th></th>\n",
       "      <th></th>\n",
       "      <th></th>\n",
       "      <th></th>\n",
       "    </tr>\n",
       "  </thead>\n",
       "  <tbody>\n",
       "    <tr>\n",
       "      <td rowspan=\"10\" valign=\"top\">Afghanistan</td>\n",
       "      <td>1970</td>\n",
       "      <td>1.36</td>\n",
       "      <td>0.21</td>\n",
       "      <td>0.785</td>\n",
       "      <td>45.8</td>\n",
       "      <td>1180</td>\n",
       "      <td>NaN</td>\n",
       "    </tr>\n",
       "    <tr>\n",
       "      <td>1971</td>\n",
       "      <td>1.39</td>\n",
       "      <td>0.22</td>\n",
       "      <td>0.805</td>\n",
       "      <td>45.9</td>\n",
       "      <td>1100</td>\n",
       "      <td>NaN</td>\n",
       "    </tr>\n",
       "    <tr>\n",
       "      <td>1972</td>\n",
       "      <td>1.43</td>\n",
       "      <td>0.22</td>\n",
       "      <td>0.825</td>\n",
       "      <td>45.9</td>\n",
       "      <td>1050</td>\n",
       "      <td>NaN</td>\n",
       "    </tr>\n",
       "    <tr>\n",
       "      <td>1973</td>\n",
       "      <td>1.47</td>\n",
       "      <td>0.23</td>\n",
       "      <td>0.850</td>\n",
       "      <td>46.0</td>\n",
       "      <td>1150</td>\n",
       "      <td>NaN</td>\n",
       "    </tr>\n",
       "    <tr>\n",
       "      <td>1974</td>\n",
       "      <td>1.51</td>\n",
       "      <td>0.24</td>\n",
       "      <td>0.875</td>\n",
       "      <td>46.1</td>\n",
       "      <td>1180</td>\n",
       "      <td>NaN</td>\n",
       "    </tr>\n",
       "    <tr>\n",
       "      <td>1975</td>\n",
       "      <td>1.55</td>\n",
       "      <td>0.25</td>\n",
       "      <td>0.900</td>\n",
       "      <td>46.3</td>\n",
       "      <td>1210</td>\n",
       "      <td>NaN</td>\n",
       "    </tr>\n",
       "    <tr>\n",
       "      <td>1976</td>\n",
       "      <td>1.59</td>\n",
       "      <td>0.26</td>\n",
       "      <td>0.925</td>\n",
       "      <td>46.5</td>\n",
       "      <td>1240</td>\n",
       "      <td>NaN</td>\n",
       "    </tr>\n",
       "    <tr>\n",
       "      <td>1977</td>\n",
       "      <td>1.63</td>\n",
       "      <td>0.27</td>\n",
       "      <td>0.950</td>\n",
       "      <td>46.6</td>\n",
       "      <td>1130</td>\n",
       "      <td>NaN</td>\n",
       "    </tr>\n",
       "    <tr>\n",
       "      <td>1978</td>\n",
       "      <td>1.67</td>\n",
       "      <td>0.27</td>\n",
       "      <td>0.970</td>\n",
       "      <td>45.0</td>\n",
       "      <td>1190</td>\n",
       "      <td>NaN</td>\n",
       "    </tr>\n",
       "    <tr>\n",
       "      <td>1979</td>\n",
       "      <td>1.71</td>\n",
       "      <td>0.28</td>\n",
       "      <td>0.995</td>\n",
       "      <td>43.6</td>\n",
       "      <td>1170</td>\n",
       "      <td>NaN</td>\n",
       "    </tr>\n",
       "  </tbody>\n",
       "</table>\n",
       "</div>"
      ],
      "text/plain": [
       "                  men_years  women_years  education_opportunity  \\\n",
       "country                                                           \n",
       "Afghanistan 1970       1.36         0.21                  0.785   \n",
       "            1971       1.39         0.22                  0.805   \n",
       "            1972       1.43         0.22                  0.825   \n",
       "            1973       1.47         0.23                  0.850   \n",
       "            1974       1.51         0.24                  0.875   \n",
       "            1975       1.55         0.25                  0.900   \n",
       "            1976       1.59         0.26                  0.925   \n",
       "            1977       1.63         0.27                  0.950   \n",
       "            1978       1.67         0.27                  0.970   \n",
       "            1979       1.71         0.28                  0.995   \n",
       "\n",
       "                  life_expectancy  income_pc  corruption  \n",
       "country                                                   \n",
       "Afghanistan 1970             45.8       1180         NaN  \n",
       "            1971             45.9       1100         NaN  \n",
       "            1972             45.9       1050         NaN  \n",
       "            1973             46.0       1150         NaN  \n",
       "            1974             46.1       1180         NaN  \n",
       "            1975             46.3       1210         NaN  \n",
       "            1976             46.5       1240         NaN  \n",
       "            1977             46.6       1130         NaN  \n",
       "            1978             45.0       1190         NaN  \n",
       "            1979             43.6       1170         NaN  "
      ]
     },
     "execution_count": 11,
     "metadata": {},
     "output_type": "execute_result"
    }
   ],
   "source": [
    "education_df.head(10)"
   ]
  },
  {
   "cell_type": "markdown",
   "metadata": {},
   "source": [
    "### Data Cleaning "
   ]
  },
  {
   "cell_type": "markdown",
   "metadata": {},
   "source": [
    "We are comfortable with our dataframe's structure, however at first glance we realize some `NaN` values are along the way.\n",
    "So before jumping to exploration, let´s make sure our dataframe does not contain any duplicated rows, any missing values and has appropriate data types for our analysis."
   ]
  },
  {
   "cell_type": "code",
   "execution_count": 12,
   "metadata": {},
   "outputs": [
    {
     "name": "stdout",
     "output_type": "stream",
     "text": [
      "<class 'pandas.core.frame.DataFrame'>\n",
      "MultiIndex: 8602 entries, (Afghanistan, 1970) to (Zimbabwe, 2015)\n",
      "Data columns (total 6 columns):\n",
      "men_years                8602 non-null float64\n",
      "women_years              8602 non-null float64\n",
      "education_opportunity    8602 non-null float64\n",
      "life_expectancy          8602 non-null float64\n",
      "income_pc                8602 non-null int64\n",
      "corruption               681 non-null float64\n",
      "dtypes: float64(5), int64(1)\n",
      "memory usage: 750.3+ KB\n"
     ]
    },
    {
     "data": {
      "text/plain": [
       "(None, men_years                   0\n",
       " women_years                 0\n",
       " education_opportunity       0\n",
       " life_expectancy             0\n",
       " income_pc                   0\n",
       " corruption               7921\n",
       " dtype: int64)"
      ]
     },
     "execution_count": 12,
     "metadata": {},
     "output_type": "execute_result"
    }
   ],
   "source": [
    "# Data types look correct, most of our operations will be aritmethic so float and int types\n",
    "# are just fine for the exploration.\n",
    "education_df.info(), education_df.isna().sum()"
   ]
  },
  {
   "cell_type": "markdown",
   "metadata": {},
   "source": [
    "Data types are appropriate, but we can notice there is a significant lose amount of data for `corruption`. 8602 - 681 = 7921 missing values which represents around 92%, that is too much!.\n",
    "After digging a little bit in transparency website, I found that Corruption Perception index looks to be a recent concept as it was first lanched in 1995 \n",
    "To make things fare, let´s consider a more narrowed timeline when exploring this concept and fill any missing values during this timeline."
   ]
  },
  {
   "cell_type": "code",
   "execution_count": 13,
   "metadata": {},
   "outputs": [
    {
     "data": {
      "text/plain": [
       "Index(['2012', '2013', '2014', '2015', '2016', '2017'], dtype='object')"
      ]
     },
     "execution_count": 13,
     "metadata": {},
     "output_type": "execute_result"
    }
   ],
   "source": [
    "# As we can see, corruption index data is available from 2012 - 2017, however education dataframe\n",
    "# contains data up to 2015, so our analysis for corruption will be from 2012 - 2015 \n",
    "corruption_df.index.levels[1]"
   ]
  },
  {
   "cell_type": "code",
   "execution_count": 14,
   "metadata": {},
   "outputs": [
    {
     "data": {
      "text/plain": [
       "0"
      ]
     },
     "execution_count": 14,
     "metadata": {},
     "output_type": "execute_result"
    }
   ],
   "source": [
    "# Just making sure thare are no NaN values in the timeframe of interest for corruption\n",
    "education_df.loc[:]['2012':'2015']['corruption'].isnull().sum()"
   ]
  },
  {
   "cell_type": "code",
   "execution_count": 15,
   "metadata": {},
   "outputs": [
    {
     "data": {
      "text/plain": [
       "0"
      ]
     },
     "execution_count": 15,
     "metadata": {},
     "output_type": "execute_result"
    }
   ],
   "source": [
    "# There isn´t duplicates so we can safely continue with our exploration\n",
    "sum(education_df.duplicated())"
   ]
  },
  {
   "cell_type": "markdown",
   "metadata": {},
   "source": [
    "<a id='eda'></a>\n",
    "## Exploratory Data Analysis\n"
   ]
  },
  {
   "cell_type": "markdown",
   "metadata": {},
   "source": [
    "To simplify analysis, we are going to pick 10 countries only. The 5 most and less educated."
   ]
  },
  {
   "cell_type": "markdown",
   "metadata": {},
   "source": [
    "### Which are the top 5 countries with more historic education opportunity, Which are the worse?"
   ]
  },
  {
   "cell_type": "markdown",
   "metadata": {},
   "source": [
    "The strategy to follow for this question is to do some aggregation and get a mean value of `education_opportunity` per country and sort them."
   ]
  },
  {
   "cell_type": "code",
   "execution_count": 16,
   "metadata": {},
   "outputs": [],
   "source": [
    "# Use this, and more code cells, to explore your data. Don't forget to add\n",
    "#   Markdown cells to document your observations and findings.\n",
    "edu_level_avg = []\n",
    "for country in education_df.index.levels[0]:\n",
    "    edu_level_avg.append(education_df.loc[country]['education_opportunity'].mean())\n",
    "    \n",
    "top_educated = pd.Series(data=edu_level_avg, index=education_df.index.levels[0])\n",
    "top_educated.sort_values(ascending=False, inplace=True)\n"
   ]
  },
  {
   "cell_type": "markdown",
   "metadata": {},
   "source": [
    "Countries with more education opportunity"
   ]
  },
  {
   "cell_type": "code",
   "execution_count": 17,
   "metadata": {},
   "outputs": [
    {
     "data": {
      "text/plain": [
       "country\n",
       "United States    13.396739\n",
       "Canada           13.137935\n",
       "Israel           12.648913\n",
       "Japan            12.535000\n",
       "Norway           12.075543\n",
       "dtype: float64"
      ]
     },
     "execution_count": 17,
     "metadata": {},
     "output_type": "execute_result"
    }
   ],
   "source": [
    "top_educated.head(5)"
   ]
  },
  {
   "cell_type": "markdown",
   "metadata": {},
   "source": [
    "Countries with less education opportunity"
   ]
  },
  {
   "cell_type": "code",
   "execution_count": 18,
   "metadata": {},
   "outputs": [
    {
     "data": {
      "text/plain": [
       "country\n",
       "Afghanistan     1.514565\n",
       "Burkina Faso    1.383804\n",
       "South Sudan     1.311848\n",
       "Mali            1.303587\n",
       "Niger           1.242174\n",
       "dtype: float64"
      ]
     },
     "execution_count": 18,
     "metadata": {},
     "output_type": "execute_result"
    }
   ],
   "source": [
    "top_educated.tail(5)"
   ]
  },
  {
   "cell_type": "markdown",
   "metadata": {},
   "source": [
    "### If we take avg years spent in school per capita as our source of truth, In terms of educational stage, how countries get classified?\n",
    "\n",
    "For this question, let´s consider United States education system as our reference. https://en.wikipedia.org/wiki/Educational_stage#United_States"
   ]
  },
  {
   "cell_type": "code",
   "execution_count": 19,
   "metadata": {},
   "outputs": [
    {
     "data": {
      "image/png": "[encoded data removed]",
      "text/plain": [
       "<Figure size 504x504 with 1 Axes>"
      ]
     },
     "metadata": {
      "needs_background": "light"
     },
     "output_type": "display_data"
    }
   ],
   "source": [
    "edu_years = [0, 1, 2, 3, 4, 5, 6, 7, 8, 9, 10, 11, 12, 13, 18]\n",
    "stages = [\"EK\", \"E1\", \"E2\", \"E3\", \"E4\", \"E5\", \"M6\", \"M7\", \"M8\", \"H9\", \"H10\", \"H11\", \"H12\", \"U\"]\n",
    "    \n",
    "education_stage_distribution = pd.cut(top_educated, bins=edu_years, labels=stages)\n",
    "education_stage_distribution.hist(figsize=(7,7));\n",
    "plt.title(\"Distribution of education stage around the world\");\n",
    "plt.xlabel(\"Stage\");\n",
    "plt.ylabel(\"Number of countries\");"
   ]
  },
  {
   "cell_type": "markdown",
   "metadata": {},
   "source": [
    "From above histogram, we can see that Middle School 6th and 7th grade is where most of the countrie´s population drop their studies."
   ]
  },
  {
   "cell_type": "markdown",
   "metadata": {},
   "source": [
    "### From best and worst  countries in terms of education opportunity, Is there any correlation with  Income per capita, Life expectancy and Unemployment indicators?."
   ]
  },
  {
   "cell_type": "code",
   "execution_count": 20,
   "metadata": {},
   "outputs": [],
   "source": [
    "united_states = education_df.loc[\"United States\"]"
   ]
  },
  {
   "cell_type": "code",
   "execution_count": 21,
   "metadata": {},
   "outputs": [
    {
     "data": {
      "image/png": "[encoded data removed]",
      "text/plain": [
       "<Figure size 432x288 with 1 Axes>"
      ]
     },
     "metadata": {
      "needs_background": "light"
     },
     "output_type": "display_data"
    },
    {
     "data": {
      "image/png": "[encoded data removed]",
      "text/plain": [
       "<Figure size 432x288 with 1 Axes>"
      ]
     },
     "metadata": {
      "needs_background": "light"
     },
     "output_type": "display_data"
    },
    {
     "data": {
      "image/png": "[encoded data removed]",
      "text/plain": [
       "<Figure size 432x288 with 1 Axes>"
      ]
     },
     "metadata": {
      "needs_background": "light"
     },
     "output_type": "display_data"
    }
   ],
   "source": [
    "united_states.plot(x=\"education_opportunity\", y=\"life_expectancy\", kind=\"scatter\");\n",
    "united_states.plot(x=\"education_opportunity\", y=\"income_pc\", kind=\"scatter\");\n",
    "united_states.plot(x=\"education_opportunity\", y=\"corruption\", kind=\"scatter\");"
   ]
  },
  {
   "cell_type": "code",
   "execution_count": 22,
   "metadata": {},
   "outputs": [],
   "source": [
    "niger = education_df.loc[\"Niger\"]"
   ]
  },
  {
   "cell_type": "code",
   "execution_count": 23,
   "metadata": {},
   "outputs": [
    {
     "data": {
      "image/png": "[encoded data removed]",
      "text/plain": [
       "<Figure size 432x288 with 1 Axes>"
      ]
     },
     "metadata": {
      "needs_background": "light"
     },
     "output_type": "display_data"
    },
    {
     "data": {
      "image/png": "[encoded data removed]",
      "text/plain": [
       "<Figure size 432x288 with 1 Axes>"
      ]
     },
     "metadata": {
      "needs_background": "light"
     },
     "output_type": "display_data"
    },
    {
     "data": {
      "image/png": "[encoded data removed]",
      "text/plain": [
       "<Figure size 432x288 with 1 Axes>"
      ]
     },
     "metadata": {
      "needs_background": "light"
     },
     "output_type": "display_data"
    }
   ],
   "source": [
    "niger.plot(x=\"education_opportunity\", y=\"life_expectancy\", kind=\"scatter\");\n",
    "niger.plot(x=\"education_opportunity\", y=\"income_pc\", kind=\"scatter\");\n",
    "niger.plot(x=\"education_opportunity\", y=\"corruption\", kind=\"scatter\");"
   ]
  },
  {
   "cell_type": "markdown",
   "metadata": {},
   "source": [
    "It´s impossible to determine a conclusion just by comparing correlation between 2 indicators. What we can see from this exploration is:\n",
    "1. There is a positive correlation between `education_opportunity` and `life_expectancy`. However that does not mean education is a causality of people to live more. There are several more factors such as health access, natural disasters, insecurity level etc.. that could affect life expectancy. Also life expectancy has grown allover the world in recent years as we could see in our education_df timeline.\n",
    "2. Education level tend to be benefitial for the income per capita of United States, but if we analyse Niger, actually income decreases as the population has more access to education. As the previous point, there are a bunch of additional factors that could contribute to income per capita appart from education , such as foreign investment, work opportunities, urbanization etc.\n",
    "3. Corruption is the hardest indicator to explore, given that we actually have little amount of data to work with."
   ]
  },
  {
   "cell_type": "markdown",
   "metadata": {},
   "source": [
    "### From top 5 most educated countries, Which one did demonstrate the biggest growth in terms of education opportunity in period 1970 - 2015? Which was the most lagging one?"
   ]
  },
  {
   "cell_type": "code",
   "execution_count": 24,
   "metadata": {},
   "outputs": [],
   "source": [
    "# The rest of our more educated countries\n",
    "\n",
    "canada = education_df.loc[\"Canada\"]\n",
    "israel = education_df.loc[\"Israel\"]\n",
    "japan = education_df.loc[\"Japan\"]\n",
    "norway = education_df.loc[\"Norway\"]"
   ]
  },
  {
   "cell_type": "markdown",
   "metadata": {},
   "source": [
    "Lets plot a line chart over time to get some insight of this question."
   ]
  },
  {
   "cell_type": "code",
   "execution_count": 35,
   "metadata": {},
   "outputs": [
    {
     "data": {
      "image/png": "[encoded data removed]",
      "text/plain": [
       "<Figure size 720x360 with 1 Axes>"
      ]
     },
     "metadata": {
      "needs_background": "light"
     },
     "output_type": "display_data"
    }
   ],
   "source": [
    "from matplotlib import colors as mcolors\n",
    "import matplotlib.ticker as ticker\n",
    "\n",
    "plt.figure(figsize=(10, 5))\n",
    "plt.plot(united_states.education_opportunity, label=\"USA\", c='navy')\n",
    "# Add line style for color blind support\n",
    "plt.plot(canada.education_opportunity, label=\"Canada\", c='orchid', ls='--')\n",
    "plt.plot(israel.education_opportunity, label=\"Israel\", c='darkturquoise', ls='-.')\n",
    "plt.plot(japan.education_opportunity, label=\"Japan\", c='dimgrey', ls=':')\n",
    "plt.plot(norway.education_opportunity, label=\"Norway\", c='crimson', ls=(0,(5,3,1,3,1,3)))\n",
    "plt.grid(color='lightblue', linestyle='-.', linewidth=0.6)\n",
    "axes = plt.gca()\n",
    "# Let´s set timeline ticks every 5 years\n",
    "axes.xaxis.set_major_locator(ticker.MultipleLocator(5))\n",
    "axes.xaxis.set_minor_locator(ticker.MultipleLocator(1))\n",
    "plt.xlabel(\"Timeline\")\n",
    "plt.ylabel(\"Avg years in school per capita\")\n",
    "plt.legend()\n",
    "plt.show()"
   ]
  },
  {
   "cell_type": "markdown",
   "metadata": {},
   "source": [
    "It´s interesting to see how US has been a protagonist when it comes to education, but looks like there was stagnation from 1985 - 2000. Boost was gained from 2005 onwards.\n",
    "Also, it´s amazing to see how countries such as Norway has increased their education opportunity by more than 50% during this period.\n",
    "The good news for these countries is that years spent by their citizens at school tend to increase even more in comming years.\n"
   ]
  },
  {
   "cell_type": "markdown",
   "metadata": {},
   "source": [
    "To demonstrate our first impresions, let´s do some calculations."
   ]
  },
  {
   "cell_type": "code",
   "execution_count": 39,
   "metadata": {},
   "outputs": [],
   "source": [
    "def calculate_edu_growth(country_df, country_iso):\n",
    "    '''\n",
    "        Calculates growth of education opportunity by comparing a given year against previous one.\n",
    "        It generates a new column called country_iso_growth that represents performed calculation.\n",
    "        \n",
    "        country_df: Dataframe to calculate growth\n",
    "        country_iso: 2 letters ISO identifier for given country\n",
    "    '''\n",
    "    growth_col_name = \"{}_edu_growth\".format(country_iso)\n",
    "    for i in range(0, len(country_df)):\n",
    "        # For first year, we have no previous to compare with so growth is zero\n",
    "        if i == 0:\n",
    "            growth_value = 0.0\n",
    "        else:\n",
    "        # 0 index means first column \"educational_opportunity\"\n",
    "            growth_value = country_df.iloc[i, 0] - country_df.iloc[i - 1, 0]\n",
    "        country_df.loc[country_df.index[i], growth_col_name] = growth_value\n"
   ]
  },
  {
   "cell_type": "code",
   "execution_count": 40,
   "metadata": {},
   "outputs": [],
   "source": [
    "us_df = united_states.education_opportunity.to_frame().rename(columns={\"education_opportunity\" : \"us_edu\"})\n",
    "calculate_edu_growth(us_df, \"us\")\n",
    "ca_df = canada.education_opportunity.to_frame().rename(columns={\"education_opportunity\" : \"ca_edu\"})\n",
    "calculate_edu_growth(ca_df, \"ca\")\n",
    "il_df = israel.education_opportunity.to_frame().rename(columns={\"education_opportunity\" : \"il_edu\"})\n",
    "calculate_edu_growth(il_df, \"il\")\n",
    "jp_df = japan.education_opportunity.to_frame().rename(columns={\"education_opportunity\" : \"jp_edu\"})\n",
    "calculate_edu_growth(jp_df, \"jp\")\n",
    "no_df = norway.education_opportunity.to_frame().rename(columns={\"education_opportunity\" : \"no_edu\"})\n",
    "calculate_edu_growth(no_df, \"no\")"
   ]
  },
  {
   "cell_type": "markdown",
   "metadata": {},
   "source": [
    "With all dataframes of our top 5 countries in place, then let´s merge them all into unique dataframe so we can apply some descriptive statistics on it."
   ]
  },
  {
   "cell_type": "code",
   "execution_count": 48,
   "metadata": {},
   "outputs": [
    {
     "data": {
      "text/html": [
       "<div>\n",
       "<style scoped>\n",
       "    .dataframe tbody tr th:only-of-type {\n",
       "        vertical-align: middle;\n",
       "    }\n",
       "\n",
       "    .dataframe tbody tr th {\n",
       "        vertical-align: top;\n",
       "    }\n",
       "\n",
       "    .dataframe thead th {\n",
       "        text-align: right;\n",
       "    }\n",
       "</style>\n",
       "<table border=\"1\" class=\"dataframe\">\n",
       "  <thead>\n",
       "    <tr style=\"text-align: right;\">\n",
       "      <th></th>\n",
       "      <th>us_edu</th>\n",
       "      <th>us_growth</th>\n",
       "      <th>ca_edu</th>\n",
       "      <th>ca_growth</th>\n",
       "      <th>il_edu</th>\n",
       "      <th>il_growth</th>\n",
       "      <th>jp_edu</th>\n",
       "      <th>jp_growth</th>\n",
       "      <th>no_edu</th>\n",
       "      <th>no_growth</th>\n",
       "    </tr>\n",
       "  </thead>\n",
       "  <tbody>\n",
       "    <tr>\n",
       "      <td>1970</td>\n",
       "      <td>12.00</td>\n",
       "      <td>0.00</td>\n",
       "      <td>10.045</td>\n",
       "      <td>0.000</td>\n",
       "      <td>9.515</td>\n",
       "      <td>0.000</td>\n",
       "      <td>9.485</td>\n",
       "      <td>0.000</td>\n",
       "      <td>8.660</td>\n",
       "      <td>0.000</td>\n",
       "    </tr>\n",
       "    <tr>\n",
       "      <td>1971</td>\n",
       "      <td>12.10</td>\n",
       "      <td>0.10</td>\n",
       "      <td>10.250</td>\n",
       "      <td>0.205</td>\n",
       "      <td>9.675</td>\n",
       "      <td>0.160</td>\n",
       "      <td>9.630</td>\n",
       "      <td>0.145</td>\n",
       "      <td>8.815</td>\n",
       "      <td>0.155</td>\n",
       "    </tr>\n",
       "    <tr>\n",
       "      <td>1972</td>\n",
       "      <td>12.25</td>\n",
       "      <td>0.15</td>\n",
       "      <td>10.450</td>\n",
       "      <td>0.200</td>\n",
       "      <td>9.815</td>\n",
       "      <td>0.140</td>\n",
       "      <td>9.805</td>\n",
       "      <td>0.175</td>\n",
       "      <td>8.965</td>\n",
       "      <td>0.150</td>\n",
       "    </tr>\n",
       "    <tr>\n",
       "      <td>1973</td>\n",
       "      <td>12.35</td>\n",
       "      <td>0.10</td>\n",
       "      <td>10.600</td>\n",
       "      <td>0.150</td>\n",
       "      <td>10.005</td>\n",
       "      <td>0.190</td>\n",
       "      <td>9.935</td>\n",
       "      <td>0.130</td>\n",
       "      <td>9.120</td>\n",
       "      <td>0.155</td>\n",
       "    </tr>\n",
       "    <tr>\n",
       "      <td>1974</td>\n",
       "      <td>12.45</td>\n",
       "      <td>0.10</td>\n",
       "      <td>10.800</td>\n",
       "      <td>0.200</td>\n",
       "      <td>10.140</td>\n",
       "      <td>0.135</td>\n",
       "      <td>10.065</td>\n",
       "      <td>0.130</td>\n",
       "      <td>9.275</td>\n",
       "      <td>0.155</td>\n",
       "    </tr>\n",
       "    <tr>\n",
       "      <td>1975</td>\n",
       "      <td>12.55</td>\n",
       "      <td>0.10</td>\n",
       "      <td>10.950</td>\n",
       "      <td>0.150</td>\n",
       "      <td>10.300</td>\n",
       "      <td>0.160</td>\n",
       "      <td>10.190</td>\n",
       "      <td>0.125</td>\n",
       "      <td>9.435</td>\n",
       "      <td>0.160</td>\n",
       "    </tr>\n",
       "    <tr>\n",
       "      <td>1976</td>\n",
       "      <td>12.65</td>\n",
       "      <td>0.10</td>\n",
       "      <td>11.100</td>\n",
       "      <td>0.150</td>\n",
       "      <td>10.450</td>\n",
       "      <td>0.150</td>\n",
       "      <td>10.350</td>\n",
       "      <td>0.160</td>\n",
       "      <td>9.590</td>\n",
       "      <td>0.155</td>\n",
       "    </tr>\n",
       "    <tr>\n",
       "      <td>1977</td>\n",
       "      <td>12.75</td>\n",
       "      <td>0.10</td>\n",
       "      <td>11.300</td>\n",
       "      <td>0.200</td>\n",
       "      <td>10.600</td>\n",
       "      <td>0.150</td>\n",
       "      <td>10.500</td>\n",
       "      <td>0.150</td>\n",
       "      <td>9.750</td>\n",
       "      <td>0.160</td>\n",
       "    </tr>\n",
       "    <tr>\n",
       "      <td>1978</td>\n",
       "      <td>12.80</td>\n",
       "      <td>0.05</td>\n",
       "      <td>11.500</td>\n",
       "      <td>0.200</td>\n",
       "      <td>10.750</td>\n",
       "      <td>0.150</td>\n",
       "      <td>10.600</td>\n",
       "      <td>0.100</td>\n",
       "      <td>9.915</td>\n",
       "      <td>0.165</td>\n",
       "    </tr>\n",
       "    <tr>\n",
       "      <td>1979</td>\n",
       "      <td>12.85</td>\n",
       "      <td>0.05</td>\n",
       "      <td>11.600</td>\n",
       "      <td>0.100</td>\n",
       "      <td>10.900</td>\n",
       "      <td>0.150</td>\n",
       "      <td>10.800</td>\n",
       "      <td>0.200</td>\n",
       "      <td>10.050</td>\n",
       "      <td>0.135</td>\n",
       "    </tr>\n",
       "    <tr>\n",
       "      <td>1980</td>\n",
       "      <td>12.95</td>\n",
       "      <td>0.10</td>\n",
       "      <td>11.800</td>\n",
       "      <td>0.200</td>\n",
       "      <td>11.050</td>\n",
       "      <td>0.150</td>\n",
       "      <td>10.950</td>\n",
       "      <td>0.150</td>\n",
       "      <td>10.250</td>\n",
       "      <td>0.200</td>\n",
       "    </tr>\n",
       "    <tr>\n",
       "      <td>1981</td>\n",
       "      <td>13.00</td>\n",
       "      <td>0.05</td>\n",
       "      <td>11.950</td>\n",
       "      <td>0.150</td>\n",
       "      <td>11.200</td>\n",
       "      <td>0.150</td>\n",
       "      <td>11.050</td>\n",
       "      <td>0.100</td>\n",
       "      <td>10.350</td>\n",
       "      <td>0.100</td>\n",
       "    </tr>\n",
       "    <tr>\n",
       "      <td>1982</td>\n",
       "      <td>13.05</td>\n",
       "      <td>0.05</td>\n",
       "      <td>12.100</td>\n",
       "      <td>0.150</td>\n",
       "      <td>11.350</td>\n",
       "      <td>0.150</td>\n",
       "      <td>11.250</td>\n",
       "      <td>0.200</td>\n",
       "      <td>10.550</td>\n",
       "      <td>0.200</td>\n",
       "    </tr>\n",
       "    <tr>\n",
       "      <td>1983</td>\n",
       "      <td>13.10</td>\n",
       "      <td>0.05</td>\n",
       "      <td>12.250</td>\n",
       "      <td>0.150</td>\n",
       "      <td>11.500</td>\n",
       "      <td>0.150</td>\n",
       "      <td>11.350</td>\n",
       "      <td>0.100</td>\n",
       "      <td>10.700</td>\n",
       "      <td>0.150</td>\n",
       "    </tr>\n",
       "    <tr>\n",
       "      <td>1984</td>\n",
       "      <td>13.20</td>\n",
       "      <td>0.10</td>\n",
       "      <td>12.350</td>\n",
       "      <td>0.100</td>\n",
       "      <td>11.600</td>\n",
       "      <td>0.100</td>\n",
       "      <td>11.500</td>\n",
       "      <td>0.150</td>\n",
       "      <td>10.850</td>\n",
       "      <td>0.150</td>\n",
       "    </tr>\n",
       "    <tr>\n",
       "      <td>1985</td>\n",
       "      <td>13.20</td>\n",
       "      <td>0.00</td>\n",
       "      <td>12.450</td>\n",
       "      <td>0.100</td>\n",
       "      <td>11.750</td>\n",
       "      <td>0.150</td>\n",
       "      <td>11.600</td>\n",
       "      <td>0.100</td>\n",
       "      <td>11.000</td>\n",
       "      <td>0.150</td>\n",
       "    </tr>\n",
       "    <tr>\n",
       "      <td>1986</td>\n",
       "      <td>13.25</td>\n",
       "      <td>0.05</td>\n",
       "      <td>12.650</td>\n",
       "      <td>0.200</td>\n",
       "      <td>11.950</td>\n",
       "      <td>0.200</td>\n",
       "      <td>11.800</td>\n",
       "      <td>0.200</td>\n",
       "      <td>11.150</td>\n",
       "      <td>0.150</td>\n",
       "    </tr>\n",
       "    <tr>\n",
       "      <td>1987</td>\n",
       "      <td>13.25</td>\n",
       "      <td>0.00</td>\n",
       "      <td>12.750</td>\n",
       "      <td>0.100</td>\n",
       "      <td>12.050</td>\n",
       "      <td>0.100</td>\n",
       "      <td>11.900</td>\n",
       "      <td>0.100</td>\n",
       "      <td>11.350</td>\n",
       "      <td>0.200</td>\n",
       "    </tr>\n",
       "    <tr>\n",
       "      <td>1988</td>\n",
       "      <td>13.25</td>\n",
       "      <td>0.00</td>\n",
       "      <td>12.850</td>\n",
       "      <td>0.100</td>\n",
       "      <td>12.200</td>\n",
       "      <td>0.150</td>\n",
       "      <td>12.000</td>\n",
       "      <td>0.100</td>\n",
       "      <td>11.450</td>\n",
       "      <td>0.100</td>\n",
       "    </tr>\n",
       "    <tr>\n",
       "      <td>1989</td>\n",
       "      <td>13.35</td>\n",
       "      <td>0.10</td>\n",
       "      <td>12.950</td>\n",
       "      <td>0.100</td>\n",
       "      <td>12.300</td>\n",
       "      <td>0.100</td>\n",
       "      <td>12.150</td>\n",
       "      <td>0.150</td>\n",
       "      <td>11.650</td>\n",
       "      <td>0.200</td>\n",
       "    </tr>\n",
       "    <tr>\n",
       "      <td>1990</td>\n",
       "      <td>13.35</td>\n",
       "      <td>0.00</td>\n",
       "      <td>13.100</td>\n",
       "      <td>0.150</td>\n",
       "      <td>12.450</td>\n",
       "      <td>0.150</td>\n",
       "      <td>12.250</td>\n",
       "      <td>0.100</td>\n",
       "      <td>11.800</td>\n",
       "      <td>0.150</td>\n",
       "    </tr>\n",
       "    <tr>\n",
       "      <td>1991</td>\n",
       "      <td>13.35</td>\n",
       "      <td>0.00</td>\n",
       "      <td>13.200</td>\n",
       "      <td>0.100</td>\n",
       "      <td>12.550</td>\n",
       "      <td>0.100</td>\n",
       "      <td>12.400</td>\n",
       "      <td>0.150</td>\n",
       "      <td>11.900</td>\n",
       "      <td>0.100</td>\n",
       "    </tr>\n",
       "    <tr>\n",
       "      <td>1992</td>\n",
       "      <td>13.40</td>\n",
       "      <td>0.05</td>\n",
       "      <td>13.300</td>\n",
       "      <td>0.100</td>\n",
       "      <td>12.700</td>\n",
       "      <td>0.150</td>\n",
       "      <td>12.550</td>\n",
       "      <td>0.150</td>\n",
       "      <td>12.100</td>\n",
       "      <td>0.200</td>\n",
       "    </tr>\n",
       "    <tr>\n",
       "      <td>1993</td>\n",
       "      <td>13.40</td>\n",
       "      <td>0.00</td>\n",
       "      <td>13.400</td>\n",
       "      <td>0.100</td>\n",
       "      <td>12.850</td>\n",
       "      <td>0.150</td>\n",
       "      <td>12.650</td>\n",
       "      <td>0.100</td>\n",
       "      <td>12.250</td>\n",
       "      <td>0.150</td>\n",
       "    </tr>\n",
       "    <tr>\n",
       "      <td>1994</td>\n",
       "      <td>13.40</td>\n",
       "      <td>0.00</td>\n",
       "      <td>13.500</td>\n",
       "      <td>0.100</td>\n",
       "      <td>12.900</td>\n",
       "      <td>0.050</td>\n",
       "      <td>12.800</td>\n",
       "      <td>0.150</td>\n",
       "      <td>12.350</td>\n",
       "      <td>0.100</td>\n",
       "    </tr>\n",
       "    <tr>\n",
       "      <td>1995</td>\n",
       "      <td>13.40</td>\n",
       "      <td>0.00</td>\n",
       "      <td>13.600</td>\n",
       "      <td>0.100</td>\n",
       "      <td>13.050</td>\n",
       "      <td>0.150</td>\n",
       "      <td>12.900</td>\n",
       "      <td>0.100</td>\n",
       "      <td>12.550</td>\n",
       "      <td>0.200</td>\n",
       "    </tr>\n",
       "    <tr>\n",
       "      <td>1996</td>\n",
       "      <td>13.40</td>\n",
       "      <td>0.00</td>\n",
       "      <td>13.700</td>\n",
       "      <td>0.100</td>\n",
       "      <td>13.200</td>\n",
       "      <td>0.150</td>\n",
       "      <td>13.000</td>\n",
       "      <td>0.100</td>\n",
       "      <td>12.700</td>\n",
       "      <td>0.150</td>\n",
       "    </tr>\n",
       "    <tr>\n",
       "      <td>1997</td>\n",
       "      <td>13.45</td>\n",
       "      <td>0.05</td>\n",
       "      <td>13.800</td>\n",
       "      <td>0.100</td>\n",
       "      <td>13.300</td>\n",
       "      <td>0.100</td>\n",
       "      <td>13.200</td>\n",
       "      <td>0.200</td>\n",
       "      <td>12.850</td>\n",
       "      <td>0.150</td>\n",
       "    </tr>\n",
       "    <tr>\n",
       "      <td>1998</td>\n",
       "      <td>13.45</td>\n",
       "      <td>0.00</td>\n",
       "      <td>13.850</td>\n",
       "      <td>0.050</td>\n",
       "      <td>13.450</td>\n",
       "      <td>0.150</td>\n",
       "      <td>13.300</td>\n",
       "      <td>0.100</td>\n",
       "      <td>13.000</td>\n",
       "      <td>0.150</td>\n",
       "    </tr>\n",
       "    <tr>\n",
       "      <td>1999</td>\n",
       "      <td>13.50</td>\n",
       "      <td>0.05</td>\n",
       "      <td>13.950</td>\n",
       "      <td>0.100</td>\n",
       "      <td>13.550</td>\n",
       "      <td>0.100</td>\n",
       "      <td>13.400</td>\n",
       "      <td>0.100</td>\n",
       "      <td>13.100</td>\n",
       "      <td>0.100</td>\n",
       "    </tr>\n",
       "    <tr>\n",
       "      <td>2000</td>\n",
       "      <td>13.55</td>\n",
       "      <td>0.05</td>\n",
       "      <td>14.050</td>\n",
       "      <td>0.100</td>\n",
       "      <td>13.650</td>\n",
       "      <td>0.100</td>\n",
       "      <td>13.550</td>\n",
       "      <td>0.150</td>\n",
       "      <td>13.250</td>\n",
       "      <td>0.150</td>\n",
       "    </tr>\n",
       "    <tr>\n",
       "      <td>2001</td>\n",
       "      <td>13.60</td>\n",
       "      <td>0.05</td>\n",
       "      <td>14.150</td>\n",
       "      <td>0.100</td>\n",
       "      <td>13.800</td>\n",
       "      <td>0.150</td>\n",
       "      <td>13.650</td>\n",
       "      <td>0.100</td>\n",
       "      <td>13.400</td>\n",
       "      <td>0.150</td>\n",
       "    </tr>\n",
       "    <tr>\n",
       "      <td>2002</td>\n",
       "      <td>13.70</td>\n",
       "      <td>0.10</td>\n",
       "      <td>14.250</td>\n",
       "      <td>0.100</td>\n",
       "      <td>13.900</td>\n",
       "      <td>0.100</td>\n",
       "      <td>13.800</td>\n",
       "      <td>0.150</td>\n",
       "      <td>13.550</td>\n",
       "      <td>0.150</td>\n",
       "    </tr>\n",
       "    <tr>\n",
       "      <td>2003</td>\n",
       "      <td>13.70</td>\n",
       "      <td>0.00</td>\n",
       "      <td>14.350</td>\n",
       "      <td>0.100</td>\n",
       "      <td>14.000</td>\n",
       "      <td>0.100</td>\n",
       "      <td>13.900</td>\n",
       "      <td>0.100</td>\n",
       "      <td>13.650</td>\n",
       "      <td>0.100</td>\n",
       "    </tr>\n",
       "    <tr>\n",
       "      <td>2004</td>\n",
       "      <td>13.80</td>\n",
       "      <td>0.10</td>\n",
       "      <td>14.450</td>\n",
       "      <td>0.100</td>\n",
       "      <td>14.150</td>\n",
       "      <td>0.150</td>\n",
       "      <td>14.050</td>\n",
       "      <td>0.150</td>\n",
       "      <td>13.850</td>\n",
       "      <td>0.200</td>\n",
       "    </tr>\n",
       "    <tr>\n",
       "      <td>2005</td>\n",
       "      <td>13.85</td>\n",
       "      <td>0.05</td>\n",
       "      <td>14.500</td>\n",
       "      <td>0.050</td>\n",
       "      <td>14.250</td>\n",
       "      <td>0.100</td>\n",
       "      <td>14.200</td>\n",
       "      <td>0.150</td>\n",
       "      <td>13.950</td>\n",
       "      <td>0.100</td>\n",
       "    </tr>\n",
       "    <tr>\n",
       "      <td>2006</td>\n",
       "      <td>13.95</td>\n",
       "      <td>0.10</td>\n",
       "      <td>14.600</td>\n",
       "      <td>0.100</td>\n",
       "      <td>14.400</td>\n",
       "      <td>0.150</td>\n",
       "      <td>14.300</td>\n",
       "      <td>0.100</td>\n",
       "      <td>14.100</td>\n",
       "      <td>0.150</td>\n",
       "    </tr>\n",
       "    <tr>\n",
       "      <td>2007</td>\n",
       "      <td>14.00</td>\n",
       "      <td>0.05</td>\n",
       "      <td>14.700</td>\n",
       "      <td>0.100</td>\n",
       "      <td>14.500</td>\n",
       "      <td>0.100</td>\n",
       "      <td>14.400</td>\n",
       "      <td>0.100</td>\n",
       "      <td>14.200</td>\n",
       "      <td>0.100</td>\n",
       "    </tr>\n",
       "    <tr>\n",
       "      <td>2008</td>\n",
       "      <td>14.10</td>\n",
       "      <td>0.10</td>\n",
       "      <td>14.800</td>\n",
       "      <td>0.100</td>\n",
       "      <td>14.650</td>\n",
       "      <td>0.150</td>\n",
       "      <td>14.550</td>\n",
       "      <td>0.150</td>\n",
       "      <td>14.300</td>\n",
       "      <td>0.100</td>\n",
       "    </tr>\n",
       "    <tr>\n",
       "      <td>2009</td>\n",
       "      <td>14.20</td>\n",
       "      <td>0.10</td>\n",
       "      <td>14.900</td>\n",
       "      <td>0.100</td>\n",
       "      <td>14.750</td>\n",
       "      <td>0.100</td>\n",
       "      <td>14.650</td>\n",
       "      <td>0.100</td>\n",
       "      <td>14.450</td>\n",
       "      <td>0.150</td>\n",
       "    </tr>\n",
       "    <tr>\n",
       "      <td>2010</td>\n",
       "      <td>14.30</td>\n",
       "      <td>0.10</td>\n",
       "      <td>15.000</td>\n",
       "      <td>0.100</td>\n",
       "      <td>14.850</td>\n",
       "      <td>0.100</td>\n",
       "      <td>14.750</td>\n",
       "      <td>0.100</td>\n",
       "      <td>14.600</td>\n",
       "      <td>0.150</td>\n",
       "    </tr>\n",
       "    <tr>\n",
       "      <td>2011</td>\n",
       "      <td>14.40</td>\n",
       "      <td>0.10</td>\n",
       "      <td>15.100</td>\n",
       "      <td>0.100</td>\n",
       "      <td>14.950</td>\n",
       "      <td>0.100</td>\n",
       "      <td>14.850</td>\n",
       "      <td>0.100</td>\n",
       "      <td>14.700</td>\n",
       "      <td>0.100</td>\n",
       "    </tr>\n",
       "    <tr>\n",
       "      <td>2012</td>\n",
       "      <td>14.50</td>\n",
       "      <td>0.10</td>\n",
       "      <td>15.200</td>\n",
       "      <td>0.100</td>\n",
       "      <td>15.050</td>\n",
       "      <td>0.100</td>\n",
       "      <td>15.000</td>\n",
       "      <td>0.150</td>\n",
       "      <td>14.850</td>\n",
       "      <td>0.150</td>\n",
       "    </tr>\n",
       "    <tr>\n",
       "      <td>2013</td>\n",
       "      <td>14.60</td>\n",
       "      <td>0.10</td>\n",
       "      <td>15.300</td>\n",
       "      <td>0.100</td>\n",
       "      <td>15.150</td>\n",
       "      <td>0.100</td>\n",
       "      <td>15.100</td>\n",
       "      <td>0.100</td>\n",
       "      <td>14.950</td>\n",
       "      <td>0.100</td>\n",
       "    </tr>\n",
       "    <tr>\n",
       "      <td>2014</td>\n",
       "      <td>14.70</td>\n",
       "      <td>0.10</td>\n",
       "      <td>15.400</td>\n",
       "      <td>0.100</td>\n",
       "      <td>15.300</td>\n",
       "      <td>0.150</td>\n",
       "      <td>15.200</td>\n",
       "      <td>0.100</td>\n",
       "      <td>15.050</td>\n",
       "      <td>0.100</td>\n",
       "    </tr>\n",
       "    <tr>\n",
       "      <td>2015</td>\n",
       "      <td>14.85</td>\n",
       "      <td>0.15</td>\n",
       "      <td>15.500</td>\n",
       "      <td>0.100</td>\n",
       "      <td>15.400</td>\n",
       "      <td>0.100</td>\n",
       "      <td>15.300</td>\n",
       "      <td>0.100</td>\n",
       "      <td>15.150</td>\n",
       "      <td>0.100</td>\n",
       "    </tr>\n",
       "  </tbody>\n",
       "</table>\n",
       "</div>"
      ],
      "text/plain": [
       "      us_edu  us_growth  ca_edu  ca_growth  il_edu  il_growth  jp_edu  \\\n",
       "1970   12.00       0.00  10.045      0.000   9.515      0.000   9.485   \n",
       "1971   12.10       0.10  10.250      0.205   9.675      0.160   9.630   \n",
       "1972   12.25       0.15  10.450      0.200   9.815      0.140   9.805   \n",
       "1973   12.35       0.10  10.600      0.150  10.005      0.190   9.935   \n",
       "1974   12.45       0.10  10.800      0.200  10.140      0.135  10.065   \n",
       "1975   12.55       0.10  10.950      0.150  10.300      0.160  10.190   \n",
       "1976   12.65       0.10  11.100      0.150  10.450      0.150  10.350   \n",
       "1977   12.75       0.10  11.300      0.200  10.600      0.150  10.500   \n",
       "1978   12.80       0.05  11.500      0.200  10.750      0.150  10.600   \n",
       "1979   12.85       0.05  11.600      0.100  10.900      0.150  10.800   \n",
       "1980   12.95       0.10  11.800      0.200  11.050      0.150  10.950   \n",
       "1981   13.00       0.05  11.950      0.150  11.200      0.150  11.050   \n",
       "1982   13.05       0.05  12.100      0.150  11.350      0.150  11.250   \n",
       "1983   13.10       0.05  12.250      0.150  11.500      0.150  11.350   \n",
       "1984   13.20       0.10  12.350      0.100  11.600      0.100  11.500   \n",
       "1985   13.20       0.00  12.450      0.100  11.750      0.150  11.600   \n",
       "1986   13.25       0.05  12.650      0.200  11.950      0.200  11.800   \n",
       "1987   13.25       0.00  12.750      0.100  12.050      0.100  11.900   \n",
       "1988   13.25       0.00  12.850      0.100  12.200      0.150  12.000   \n",
       "1989   13.35       0.10  12.950      0.100  12.300      0.100  12.150   \n",
       "1990   13.35       0.00  13.100      0.150  12.450      0.150  12.250   \n",
       "1991   13.35       0.00  13.200      0.100  12.550      0.100  12.400   \n",
       "1992   13.40       0.05  13.300      0.100  12.700      0.150  12.550   \n",
       "1993   13.40       0.00  13.400      0.100  12.850      0.150  12.650   \n",
       "1994   13.40       0.00  13.500      0.100  12.900      0.050  12.800   \n",
       "1995   13.40       0.00  13.600      0.100  13.050      0.150  12.900   \n",
       "1996   13.40       0.00  13.700      0.100  13.200      0.150  13.000   \n",
       "1997   13.45       0.05  13.800      0.100  13.300      0.100  13.200   \n",
       "1998   13.45       0.00  13.850      0.050  13.450      0.150  13.300   \n",
       "1999   13.50       0.05  13.950      0.100  13.550      0.100  13.400   \n",
       "2000   13.55       0.05  14.050      0.100  13.650      0.100  13.550   \n",
       "2001   13.60       0.05  14.150      0.100  13.800      0.150  13.650   \n",
       "2002   13.70       0.10  14.250      0.100  13.900      0.100  13.800   \n",
       "2003   13.70       0.00  14.350      0.100  14.000      0.100  13.900   \n",
       "2004   13.80       0.10  14.450      0.100  14.150      0.150  14.050   \n",
       "2005   13.85       0.05  14.500      0.050  14.250      0.100  14.200   \n",
       "2006   13.95       0.10  14.600      0.100  14.400      0.150  14.300   \n",
       "2007   14.00       0.05  14.700      0.100  14.500      0.100  14.400   \n",
       "2008   14.10       0.10  14.800      0.100  14.650      0.150  14.550   \n",
       "2009   14.20       0.10  14.900      0.100  14.750      0.100  14.650   \n",
       "2010   14.30       0.10  15.000      0.100  14.850      0.100  14.750   \n",
       "2011   14.40       0.10  15.100      0.100  14.950      0.100  14.850   \n",
       "2012   14.50       0.10  15.200      0.100  15.050      0.100  15.000   \n",
       "2013   14.60       0.10  15.300      0.100  15.150      0.100  15.100   \n",
       "2014   14.70       0.10  15.400      0.100  15.300      0.150  15.200   \n",
       "2015   14.85       0.15  15.500      0.100  15.400      0.100  15.300   \n",
       "\n",
       "      jp_growth  no_edu  no_growth  \n",
       "1970      0.000   8.660      0.000  \n",
       "1971      0.145   8.815      0.155  \n",
       "1972      0.175   8.965      0.150  \n",
       "1973      0.130   9.120      0.155  \n",
       "1974      0.130   9.275      0.155  \n",
       "1975      0.125   9.435      0.160  \n",
       "1976      0.160   9.590      0.155  \n",
       "1977      0.150   9.750      0.160  \n",
       "1978      0.100   9.915      0.165  \n",
       "1979      0.200  10.050      0.135  \n",
       "1980      0.150  10.250      0.200  \n",
       "1981      0.100  10.350      0.100  \n",
       "1982      0.200  10.550      0.200  \n",
       "1983      0.100  10.700      0.150  \n",
       "1984      0.150  10.850      0.150  \n",
       "1985      0.100  11.000      0.150  \n",
       "1986      0.200  11.150      0.150  \n",
       "1987      0.100  11.350      0.200  \n",
       "1988      0.100  11.450      0.100  \n",
       "1989      0.150  11.650      0.200  \n",
       "1990      0.100  11.800      0.150  \n",
       "1991      0.150  11.900      0.100  \n",
       "1992      0.150  12.100      0.200  \n",
       "1993      0.100  12.250      0.150  \n",
       "1994      0.150  12.350      0.100  \n",
       "1995      0.100  12.550      0.200  \n",
       "1996      0.100  12.700      0.150  \n",
       "1997      0.200  12.850      0.150  \n",
       "1998      0.100  13.000      0.150  \n",
       "1999      0.100  13.100      0.100  \n",
       "2000      0.150  13.250      0.150  \n",
       "2001      0.100  13.400      0.150  \n",
       "2002      0.150  13.550      0.150  \n",
       "2003      0.100  13.650      0.100  \n",
       "2004      0.150  13.850      0.200  \n",
       "2005      0.150  13.950      0.100  \n",
       "2006      0.100  14.100      0.150  \n",
       "2007      0.100  14.200      0.100  \n",
       "2008      0.150  14.300      0.100  \n",
       "2009      0.100  14.450      0.150  \n",
       "2010      0.100  14.600      0.150  \n",
       "2011      0.100  14.700      0.100  \n",
       "2012      0.150  14.850      0.150  \n",
       "2013      0.100  14.950      0.100  \n",
       "2014      0.100  15.050      0.100  \n",
       "2015      0.100  15.150      0.100  "
      ]
     },
     "execution_count": 48,
     "metadata": {},
     "output_type": "execute_result"
    }
   ],
   "source": [
    "most_educated = pd.merge(us_df, ca_df, left_index=True, right_index=True)\n",
    "most_educated = most_educated.merge(il_df, left_index=True, right_index=True)\n",
    "most_educated = most_educated.merge(jp_df, left_index=True, right_index=True)\n",
    "most_educated = most_educated.merge(no_df, left_index=True, right_index=True)\n",
    "most_educated"
   ]
  },
  {
   "cell_type": "code",
   "execution_count": 51,
   "metadata": {},
   "outputs": [
    {
     "data": {
      "text/html": [
       "<div>\n",
       "<style scoped>\n",
       "    .dataframe tbody tr th:only-of-type {\n",
       "        vertical-align: middle;\n",
       "    }\n",
       "\n",
       "    .dataframe tbody tr th {\n",
       "        vertical-align: top;\n",
       "    }\n",
       "\n",
       "    .dataframe thead th {\n",
       "        text-align: right;\n",
       "    }\n",
       "</style>\n",
       "<table border=\"1\" class=\"dataframe\">\n",
       "  <thead>\n",
       "    <tr style=\"text-align: right;\">\n",
       "      <th></th>\n",
       "      <th>us_edu</th>\n",
       "      <th>us_growth</th>\n",
       "      <th>ca_edu</th>\n",
       "      <th>ca_growth</th>\n",
       "      <th>il_edu</th>\n",
       "      <th>il_growth</th>\n",
       "      <th>jp_edu</th>\n",
       "      <th>jp_growth</th>\n",
       "      <th>no_edu</th>\n",
       "      <th>no_growth</th>\n",
       "    </tr>\n",
       "  </thead>\n",
       "  <tbody>\n",
       "    <tr>\n",
       "      <td>count</td>\n",
       "      <td>46.000000</td>\n",
       "      <td>46.000000</td>\n",
       "      <td>46.000000</td>\n",
       "      <td>46.000000</td>\n",
       "      <td>46.000000</td>\n",
       "      <td>46.000000</td>\n",
       "      <td>46.000000</td>\n",
       "      <td>46.000000</td>\n",
       "      <td>46.000000</td>\n",
       "      <td>46.000000</td>\n",
       "    </tr>\n",
       "    <tr>\n",
       "      <td>mean</td>\n",
       "      <td>13.396739</td>\n",
       "      <td>0.061957</td>\n",
       "      <td>13.137935</td>\n",
       "      <td>0.118587</td>\n",
       "      <td>12.648913</td>\n",
       "      <td>0.127935</td>\n",
       "      <td>12.535000</td>\n",
       "      <td>0.126413</td>\n",
       "      <td>12.075543</td>\n",
       "      <td>0.141087</td>\n",
       "    </tr>\n",
       "    <tr>\n",
       "      <td>std</td>\n",
       "      <td>0.678921</td>\n",
       "      <td>0.044950</td>\n",
       "      <td>1.556076</td>\n",
       "      <td>0.044129</td>\n",
       "      <td>1.742537</td>\n",
       "      <td>0.035662</td>\n",
       "      <td>1.739913</td>\n",
       "      <td>0.037737</td>\n",
       "      <td>1.974972</td>\n",
       "      <td>0.039326</td>\n",
       "    </tr>\n",
       "    <tr>\n",
       "      <td>min</td>\n",
       "      <td>12.000000</td>\n",
       "      <td>0.000000</td>\n",
       "      <td>10.045000</td>\n",
       "      <td>0.000000</td>\n",
       "      <td>9.515000</td>\n",
       "      <td>0.000000</td>\n",
       "      <td>9.485000</td>\n",
       "      <td>0.000000</td>\n",
       "      <td>8.660000</td>\n",
       "      <td>0.000000</td>\n",
       "    </tr>\n",
       "    <tr>\n",
       "      <td>25%</td>\n",
       "      <td>13.012500</td>\n",
       "      <td>0.012500</td>\n",
       "      <td>11.987500</td>\n",
       "      <td>0.100000</td>\n",
       "      <td>11.237500</td>\n",
       "      <td>0.100000</td>\n",
       "      <td>11.100000</td>\n",
       "      <td>0.100000</td>\n",
       "      <td>10.400000</td>\n",
       "      <td>0.100000</td>\n",
       "    </tr>\n",
       "    <tr>\n",
       "      <td>50%</td>\n",
       "      <td>13.400000</td>\n",
       "      <td>0.050000</td>\n",
       "      <td>13.350000</td>\n",
       "      <td>0.100000</td>\n",
       "      <td>12.775000</td>\n",
       "      <td>0.150000</td>\n",
       "      <td>12.600000</td>\n",
       "      <td>0.112500</td>\n",
       "      <td>12.175000</td>\n",
       "      <td>0.150000</td>\n",
       "    </tr>\n",
       "    <tr>\n",
       "      <td>75%</td>\n",
       "      <td>13.775000</td>\n",
       "      <td>0.100000</td>\n",
       "      <td>14.425000</td>\n",
       "      <td>0.150000</td>\n",
       "      <td>14.112500</td>\n",
       "      <td>0.150000</td>\n",
       "      <td>14.012500</td>\n",
       "      <td>0.150000</td>\n",
       "      <td>13.800000</td>\n",
       "      <td>0.155000</td>\n",
       "    </tr>\n",
       "    <tr>\n",
       "      <td>max</td>\n",
       "      <td>14.850000</td>\n",
       "      <td>0.150000</td>\n",
       "      <td>15.500000</td>\n",
       "      <td>0.205000</td>\n",
       "      <td>15.400000</td>\n",
       "      <td>0.200000</td>\n",
       "      <td>15.300000</td>\n",
       "      <td>0.200000</td>\n",
       "      <td>15.150000</td>\n",
       "      <td>0.200000</td>\n",
       "    </tr>\n",
       "  </tbody>\n",
       "</table>\n",
       "</div>"
      ],
      "text/plain": [
       "          us_edu  us_growth     ca_edu  ca_growth     il_edu  il_growth  \\\n",
       "count  46.000000  46.000000  46.000000  46.000000  46.000000  46.000000   \n",
       "mean   13.396739   0.061957  13.137935   0.118587  12.648913   0.127935   \n",
       "std     0.678921   0.044950   1.556076   0.044129   1.742537   0.035662   \n",
       "min    12.000000   0.000000  10.045000   0.000000   9.515000   0.000000   \n",
       "25%    13.012500   0.012500  11.987500   0.100000  11.237500   0.100000   \n",
       "50%    13.400000   0.050000  13.350000   0.100000  12.775000   0.150000   \n",
       "75%    13.775000   0.100000  14.425000   0.150000  14.112500   0.150000   \n",
       "max    14.850000   0.150000  15.500000   0.205000  15.400000   0.200000   \n",
       "\n",
       "          jp_edu  jp_growth     no_edu  no_growth  \n",
       "count  46.000000  46.000000  46.000000  46.000000  \n",
       "mean   12.535000   0.126413  12.075543   0.141087  \n",
       "std     1.739913   0.037737   1.974972   0.039326  \n",
       "min     9.485000   0.000000   8.660000   0.000000  \n",
       "25%    11.100000   0.100000  10.400000   0.100000  \n",
       "50%    12.600000   0.112500  12.175000   0.150000  \n",
       "75%    14.012500   0.150000  13.800000   0.155000  \n",
       "max    15.300000   0.200000  15.150000   0.200000  "
      ]
     },
     "execution_count": 51,
     "metadata": {},
     "output_type": "execute_result"
    }
   ],
   "source": [
    "most_educated.describe()"
   ]
  },
  {
   "cell_type": "markdown",
   "metadata": {},
   "source": [
    "From Above statistics we can see that Norway has the fastest growth avg with 0.14% year over year, while US has slowest growth with 0.061%.\n",
    "Canada has the maximum Average of education reported in a given year with 15.5 years of spent at school per capita.\n",
    "Norway is the country with the minimum level registered of education_opportunity among all with 8.66 years avg.\n",
    "These results evidence how fast Norway is by growing in education opportunity."
   ]
  },
  {
   "cell_type": "markdown",
   "metadata": {},
   "source": [
    "<a id='conclusions'></a>\n",
    "## Conclusions\n"
   ]
  },
  {
   "cell_type": "markdown",
   "metadata": {},
   "source": [
    "To make it clear, all above responses to research questions are merely exploratory. None of them can infer a concrete conclusion about how education moves around the world.\n",
    "The most difficult part of this work was to reshape data in a way that we could answer to those questions.\n",
    "A takeaway from this research work is that Education, as any other country indicator is way difficult to measure, process and analyse given that concepts like Economy, Politics, Health among others are factors that affect in some form."
   ]
  }
 ],
 "metadata": {
  "kernelspec": {
   "display_name": "Python 3",
   "language": "python",
   "name": "python3"
  },
  "language_info": {
   "codemirror_mode": {
    "name": "ipython",
    "version": 3
   },
   "file_extension": ".py",
   "mimetype": "text/x-python",
   "name": "python",
   "nbconvert_exporter": "python",
   "pygments_lexer": "ipython3",
   "version": "3.7.4"
  }
 },
 "nbformat": 4,
 "nbformat_minor": 2
}
